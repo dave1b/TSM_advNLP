{
 "cells": [
  {
   "cell_type": "markdown",
   "id": "quick-polls",
   "metadata": {},
   "source": [
    "![MSE Logo](https://moodle.msengineering.ch/pluginfile.php/1/core_admin/logo/0x150/1643104191/logo-mse.png)\n",
    "\n",
    "# AdvNLP Lab 4 GRADED: Testing a pretrained word2vec model on analogy tasks\n",
    "\n",
    "**Objectives:**  experiment with *word vectors* from word2vec: test them on analogy tasks; use *accuracy and MRR* (Mean Reciprocal Rank) scores.\n",
    "\n",
    "**Useful documentation:** the [section on KeyedVectors in Gensim](https://radimrehurek.com/gensim/models/keyedvectors.html) and possibly the [section on word2vec](https://radimrehurek.com/gensim/models/word2vec.html)."
   ]
  },
  {
   "metadata": {},
   "cell_type": "markdown",
   "source": [
    "---\n",
    "#### Submission of Dave Brunner & Andrea Wey\n",
    "---"
   ],
   "id": "ddbdb3a573a6ec3"
  },
  {
   "cell_type": "markdown",
   "id": "sufficient-chase",
   "metadata": {},
   "source": [
    "## 1. Word2vec model trained on Google News\n",
    "**1a.** Please install the latest version of Gensim, preferably in a Conda environment. "
   ]
  },
  {
   "cell_type": "code",
   "id": "extreme-birthday",
   "metadata": {
    "ExecuteTime": {
     "end_time": "2025-03-27T13:08:32.558047Z",
     "start_time": "2025-03-27T13:08:32.554708Z"
    }
   },
   "source": [
    "# !pip install --upgrade gensim\n",
    "# You can run the following verification:\n",
    "# !pip show gensim"
   ],
   "outputs": [],
   "execution_count": 1
  },
  {
   "cell_type": "code",
   "id": "assumed-photographer",
   "metadata": {
    "ExecuteTime": {
     "end_time": "2025-03-27T13:08:33.051847Z",
     "start_time": "2025-03-27T13:08:32.572412Z"
    }
   },
   "source": [
    "import gensim, os, random\n",
    "from gensim import downloader\n",
    "from gensim.test.utils import datapath\n",
    "from gensim.models import KeyedVectors\n",
    "from pathlib import Path"
   ],
   "outputs": [
    {
     "name": "stderr",
     "output_type": "stream",
     "text": [
      "/Users/davebrunner/Documents/repositories/TSM_AdvNLP/venv/lib/python3.9/site-packages/urllib3/__init__.py:35: NotOpenSSLWarning: urllib3 v2 only supports OpenSSL 1.1.1+, currently the 'ssl' module is compiled with 'LibreSSL 2.8.3'. See: https://github.com/urllib3/urllib3/issues/3020\n",
      "  warnings.warn(\n"
     ]
    }
   ],
   "execution_count": 2
  },
  {
   "cell_type": "markdown",
   "id": "working-titanium",
   "metadata": {},
   "source": [
    "**1b.** Please download from Gensim the `word2vec-google-news-300` model, upon your first use.  Then, please write code to answer the following questions:\n",
    "* Where is the model stored on your computer and what is the file name?  You can store the absolute path in a variable called `path_to_model_file`.\n",
    "* What is the size of the corresponding file?  Please display the size in gigabytes with two decimals."
   ]
  },
  {
   "cell_type": "code",
   "id": "infectious-burner",
   "metadata": {
    "ExecuteTime": {
     "end_time": "2025-03-27T13:08:33.114427Z",
     "start_time": "2025-03-27T13:08:33.112947Z"
    }
   },
   "source": [
    "# Download the model from Gensim (needed only the first time)\n",
    "# gensim.downloader.load(\"word2vec-google-news-300\")\n",
    "# No need to store the returned value (uses a lot of memory)."
   ],
   "outputs": [],
   "execution_count": 3
  },
  {
   "cell_type": "code",
   "id": "scheduled-binary",
   "metadata": {
    "ExecuteTime": {
     "end_time": "2025-03-27T13:08:33.121003Z",
     "start_time": "2025-03-27T13:08:33.118752Z"
    }
   },
   "source": [
    "path_to_model_file = Path(gensim.downloader.base_dir) / 'word2vec-google-news-300' / 'word2vec-google-news-300.gz'\n",
    "print(f'Model stored at: {path_to_model_file}')\n",
    "assert path_to_model_file.exists()\n",
    "\n",
    "file_size = path_to_model_file.stat().st_size\n",
    "file_size_gb = file_size / 1024 ** 3\n",
    "print(f\"Size of the file: {file_size_gb:.2f} GB\")"
   ],
   "outputs": [
    {
     "name": "stdout",
     "output_type": "stream",
     "text": [
      "Model stored at: /Users/davebrunner/gensim-data/word2vec-google-news-300/word2vec-google-news-300.gz\n",
      "Size of the file: 1.62 GB\n"
     ]
    }
   ],
   "execution_count": 4
  },
  {
   "cell_type": "markdown",
   "id": "western-insurance",
   "metadata": {},
   "source": [
    "**1c.** Please load the word2vec model as an instance of the class `KeyedVectors`, and store it in a variable called `wv_model`. \n",
    "What is, at this point, the memory size of the process corresponding to this notebook?  Simply write the value you obtain from any OS-specific utility that you like."
   ]
  },
  {
   "cell_type": "code",
   "id": "instant-jewelry",
   "metadata": {
    "ExecuteTime": {
     "end_time": "2025-03-27T13:08:49.030601Z",
     "start_time": "2025-03-27T13:08:33.141426Z"
    }
   },
   "source": [
    "wv_model = KeyedVectors.load_word2vec_format(path_to_model_file, binary=True)\n",
    "# 3.96 GB on my MacBook Pro"
   ],
   "outputs": [],
   "execution_count": 5
  },
  {
   "cell_type": "markdown",
   "id": "together-flooring",
   "metadata": {},
   "source": [
    "**1d.** Please write the instructions that generate the answers to the following questions.\n",
    "* What is the size of the vocabulary of the `wv_model` model?  \n",
    "* What is the dimensionality of each word vector?  \n",
    "* What is the word corresponding to the vector in position 1234?  \n",
    "* What are the first 10 coefficients of the word vector for the word *pyramid*?  "
   ]
  },
  {
   "cell_type": "code",
   "id": "rubber-richardson",
   "metadata": {
    "ExecuteTime": {
     "end_time": "2025-03-27T13:08:49.038270Z",
     "start_time": "2025-03-27T13:08:49.036364Z"
    }
   },
   "source": [
    "# 1. Size of the vocabulary\n",
    "vocab_size = len(wv_model.index_to_key)\n",
    "print(f\"Size of the vocabulary: {vocab_size}\")"
   ],
   "outputs": [
    {
     "name": "stdout",
     "output_type": "stream",
     "text": [
      "Size of the vocabulary: 3000000\n"
     ]
    }
   ],
   "execution_count": 6
  },
  {
   "metadata": {
    "ExecuteTime": {
     "end_time": "2025-03-27T13:08:49.054112Z",
     "start_time": "2025-03-27T13:08:49.052216Z"
    }
   },
   "cell_type": "code",
   "source": [
    "# 2. Dimensionality of each word vector\n",
    "vector_dim = wv_model.vector_size\n",
    "print(f\"Dimensionality of each word vector: {vector_dim}\")"
   ],
   "id": "427a7f124ff51839",
   "outputs": [
    {
     "name": "stdout",
     "output_type": "stream",
     "text": [
      "Dimensionality of each word vector: 300\n"
     ]
    }
   ],
   "execution_count": 7
  },
  {
   "metadata": {
    "ExecuteTime": {
     "end_time": "2025-03-27T13:08:49.078124Z",
     "start_time": "2025-03-27T13:08:49.076109Z"
    }
   },
   "cell_type": "code",
   "source": [
    "# 3. Word corresponding to the vector in position 1234\n",
    "word_at_position_1234 = wv_model.index_to_key[1234]\n",
    "print(f\"Word at position 1234: {word_at_position_1234}\")"
   ],
   "id": "93db7f41b492efb0",
   "outputs": [
    {
     "name": "stdout",
     "output_type": "stream",
     "text": [
      "Word at position 1234: learn\n"
     ]
    }
   ],
   "execution_count": 8
  },
  {
   "metadata": {
    "ExecuteTime": {
     "end_time": "2025-03-27T13:08:49.103553Z",
     "start_time": "2025-03-27T13:08:49.101236Z"
    }
   },
   "cell_type": "code",
   "source": [
    "# 4. First 10 coefficients of the word vector for the word 'pyramid'\n",
    "if 'pyramid' in wv_model:\n",
    "    pyramid_vector = wv_model['pyramid']\n",
    "    first_10_coefficients = pyramid_vector[:10]\n",
    "    print(f\"First 10 coefficients of the word vector for 'pyramid': {first_10_coefficients}\")"
   ],
   "id": "7688dc16a8a2057e",
   "outputs": [
    {
     "name": "stdout",
     "output_type": "stream",
     "text": [
      "First 10 coefficients of the word vector for 'pyramid': [ 0.00402832 -0.00260925  0.04296875  0.19433594 -0.03979492 -0.06445312\n",
      "  0.42773438 -0.18359375 -0.27148438 -0.12890625]\n"
     ]
    }
   ],
   "execution_count": 9
  },
  {
   "cell_type": "markdown",
   "id": "governing-accessory",
   "metadata": {},
   "source": [
    "## 2. Solving analogies using word2vec trained on Google News\n",
    "In this section, you are going to use word vectors to solve analogy tasks provided with Gensim, such as \"What is to France what Rome is to Italy?\".  The predefined function in Gensim that evaluates a model on this task does not provide enough details, so you will need to make modifications to it."
   ]
  },
  {
   "cell_type": "markdown",
   "id": "a642353b",
   "metadata": {},
   "source": [
    "**2a.** The analogy tasks are stored in a text file called `questions-words.txt` which is typically found in `C:\\Users\\YourNameHere\\.conda\\envs\\YourEnvNameHere\\Lib\\site-packages\\gensim\\test\\test_data`.  You can access it from here with Gensim as `datapath('questions-words.txt')`.  \n",
    "\n",
    "Please create a file called `questions-words-100.txt` with the first 100 lines from the original file.  Please run the evaluation task on this file, using the [documentation of the KeyedVectors class](https://radimrehurek.com/gensim/models/keyedvectors.html), then answer the following questions:\n",
    "* How many analogy tasks are there in your `questions-words-100.txt` file?\n",
    "* How many analogies were solved correctly and how many incorrectly?\n",
    "* What is the accuracy returned by `evaluate_word_analogies`?\n",
    "* How much time did it take to solve the analogies?"
   ]
  },
  {
   "cell_type": "code",
   "id": "1ae43e45",
   "metadata": {
    "ExecuteTime": {
     "end_time": "2025-03-27T13:08:52.417339Z",
     "start_time": "2025-03-27T13:08:49.130528Z"
    }
   },
   "source": [
    "import time\n",
    "\n",
    "# Locate the original analogy tasks file\n",
    "original_file_path = datapath('questions-words.txt')\n",
    "\n",
    "# Read the first 100 lines from the original file\n",
    "with open(original_file_path, 'r', encoding='utf-8') as file:\n",
    "    lines = [next(file) for _ in range(100)]\n",
    "\n",
    "# Write these lines to a new file\n",
    "new_file_path = Path(os.getcwd()) / 'questions-words-100.txt'\n",
    "with open(new_file_path, 'w', encoding='utf-8') as new_file:\n",
    "    new_file.writelines(lines)\n",
    "\n",
    "# Evaluate the analogy tasks\n",
    "start_time = time.time()\n",
    "accuracy, results = wv_model.evaluate_word_analogies(new_file_path)\n",
    "end_time = time.time()\n",
    "\n",
    "# Extract results\n",
    "total_tasks = len(results[-1]['correct']) + len(results[-1]['incorrect'])\n",
    "correct_tasks = len(results[-1]['correct'])\n",
    "incorrect_tasks = total_tasks - correct_tasks\n",
    "accuracy_percentage = accuracy * 100\n",
    "time_taken = end_time - start_time\n",
    "\n",
    "# Print the results\n",
    "print(f\"Total analogy tasks: {total_tasks}\")\n",
    "print(f\"Correctly solved analogies: {correct_tasks}\")\n",
    "print(f\"Incorrectly solved analogies: {incorrect_tasks}\")\n",
    "print(f\"Accuracy: {accuracy_percentage:.2f}%\")\n",
    "print(f\"Time taken to solve analogies: {time_taken:.2f} seconds\")"
   ],
   "outputs": [
    {
     "name": "stdout",
     "output_type": "stream",
     "text": [
      "Total analogy tasks: 99\n",
      "Correctly solved analogies: 80\n",
      "Incorrectly solved analogies: 19\n",
      "Accuracy: 80.81%\n",
      "Time taken to solve analogies: 3.28 seconds\n"
     ]
    }
   ],
   "execution_count": 10
  },
  {
   "cell_type": "markdown",
   "id": "b8da425e",
   "metadata": {},
   "source": [
    "**2b.** Please answer in writing the following questions:\n",
    "* What is the meaning of the first line of `questions-words-100.txt`?\n",
    "* How many analogies are there in the original `questions-words.txt`?\n",
    "* How much time would it take to solve the original set of analogies?"
   ]
  },
  {
   "cell_type": "code",
   "id": "66241a78",
   "metadata": {
    "ExecuteTime": {
     "end_time": "2025-03-27T13:08:52.464348Z",
     "start_time": "2025-03-27T13:08:52.455349Z"
    }
   },
   "source": [
    "# The first line of question-words-100.txt is : capital-common-countries\n",
    "#  and from the documentation we know that the first line is the section name.\n",
    "\n",
    "with open(original_file_path, 'r', encoding='utf-8') as file:\n",
    "    total_analogies = sum(1 for line in file if not line.startswith(':') and line.strip())\n",
    "print(f\"Total number of analogies in the original 'questions-words.txt': {total_analogies}\")\n",
    "\n",
    "# Time to solve the original set of analogies\n",
    "# Assuming the time taken to solve the first 100 analogies is proportional to the total number of analogies\n",
    "time_to_solve_original = time_taken * total_analogies / 100\n",
    "print(f'Time to solve the original set of analogies: {time_to_solve_original:.2f} seconds')"
   ],
   "outputs": [
    {
     "name": "stdout",
     "output_type": "stream",
     "text": [
      "Total number of analogies in the original 'questions-words.txt': 19544\n",
      "Time to solve the original set of analogies: 641.09 seconds\n"
     ]
    }
   ],
   "execution_count": 11
  },
  {
   "cell_type": "markdown",
   "id": "683ea5d4",
   "metadata": {},
   "source": [
    "**2c.** The built-in function from Gensim has several weaknesses, which you will address here.  Please copy the source code of the function `evaluate_word_analogies` from the file `gensim\\models\\keyedvectors.py` and create here a new function which will improve the built-in one as follows.  The function will be called `my_evaluate_word_analogies` and you will also pass it the model as the first argument.  Overall, please proceed gradually and only make minimal modifications, to ensure you don't break the function.  It is important to first understand the structure of the result, `analogies_scores` and `sections`. \n",
    "\n",
    "* Modify the line where `section[incorrect]` is assembled in order to also add to each analogy the *incorrect guess* (i.e. what the model thought was the good answer, but got it wrong).\n",
    "\n",
    "* Modify the code so that when `section[incorrect]` is assembled, you also add the *rank of the correct answer* among the candidates returned by the system (after the incorrect guess).  If the correct answer is not present at all, then code the rank as 0."
   ]
  },
  {
   "metadata": {
    "ExecuteTime": {
     "end_time": "2025-03-27T13:08:53.227862Z",
     "start_time": "2025-03-27T13:08:52.510997Z"
    }
   },
   "cell_type": "code",
   "source": [
    "import itertools\n",
    "import logging\n",
    "import random\n",
    "from gensim import utils\n",
    "\n",
    "logger = logging.getLogger(__name__)\n",
    "\n",
    "\n",
    "def my_evaluate_word_analogies(model, analogies, restrict_vocab=300000, case_insensitive=True):\n",
    "    oov = 0\n",
    "    logger.info(\"Evaluating word analogies for top %i words in the model on %s\", restrict_vocab, analogies)\n",
    "    results, section, accuracy = [], None, 0\n",
    "    quadruplets_no = 0\n",
    "\n",
    "    with utils.open(analogies, 'rb') as fin:\n",
    "        for line_no, line in enumerate(fin):\n",
    "            line = utils.to_unicode(line).strip()\n",
    "            if line.startswith(': '):\n",
    "                category_name = line.lstrip(': ')\n",
    "                if section:\n",
    "                    results.append(section)\n",
    "                section = {'section': category_name, 'correct': [], 'incorrect': []}\n",
    "            else:\n",
    "                if not section:\n",
    "                    raise ValueError(f\"Missing section header before line #{line_no} in {analogies}\")\n",
    "\n",
    "                try:\n",
    "                    if case_insensitive:\n",
    "                        a, b, c, expected = [word.upper() for word in line.split()]\n",
    "                    else:\n",
    "                        a, b, c, expected = [word for word in line.split()]\n",
    "                except ValueError:\n",
    "                    logger.info(f\"Skipping invalid line #{line_no} in {analogies}\")\n",
    "                    continue\n",
    "\n",
    "                quadruplets_no += 1\n",
    "\n",
    "                # Check vocabulary presence using Gensim's built-in method\n",
    "                if not (model.has_index_for(a) and model.has_index_for(b) and model.has_index_for(\n",
    "                        c) and model.has_index_for(expected)):\n",
    "                    oov += 1\n",
    "                    section['incorrect'].append((a, b, c, expected, None, 0))  # No guess, rank = 0\n",
    "                    continue\n",
    "\n",
    "                ignore = {a, b, c}\n",
    "\n",
    "                try:\n",
    "                    sims = model.most_similar(positive=[b, c], negative=[a], topn=5, restrict_vocab=restrict_vocab)\n",
    "                except KeyError as e:\n",
    "                    logger.warning(f\"Skipping analogy due to missing words: {e}\")\n",
    "                    oov += 1\n",
    "                    section['incorrect'].append((a, b, c, expected, None, 0))\n",
    "                    continue\n",
    "\n",
    "                predicted = None\n",
    "                rank = 0\n",
    "\n",
    "                # check if first token is correct\n",
    "                predicted = sims[0][0].upper() if case_insensitive else sims[0][0]\n",
    "                if predicted == expected:\n",
    "                    section['correct'].append((a, b, c, expected))\n",
    "                else:\n",
    "                    for idx, (word, _) in enumerate(sims[1:]):\n",
    "                        predicted = word.upper() if case_insensitive else word\n",
    "                        if predicted in ignore:\n",
    "                            continue\n",
    "                        if predicted == expected:\n",
    "                            rank = idx\n",
    "                            break\n",
    "                    section['incorrect'].append((a, b, c, expected, predicted, rank if rank else 0))\n",
    "\n",
    "    results.append(section)\n",
    "\n",
    "    total = {\n",
    "        'section': 'Total accuracy',\n",
    "        'correct': list(itertools.chain.from_iterable(s['correct'] for s in results)),\n",
    "        'incorrect': list(itertools.chain.from_iterable(s['incorrect'] for s in results)),\n",
    "    }\n",
    "\n",
    "    oov_ratio = float(oov) / quadruplets_no * 100 if quadruplets_no > 0 else 0\n",
    "    logger.info('Quadruplets with out-of-vocabulary words: %.1f%%', oov_ratio)\n",
    "    accuracy = len(total['correct']) / (len(total['correct']) + len(total['incorrect']))\n",
    "\n",
    "    results.append(total)\n",
    "    return accuracy, results\n",
    "\n",
    "\n",
    "analogy_scores = my_evaluate_word_analogies(wv_model, \"questions-words-100.txt\")"
   ],
   "id": "bb98244a26ca1e00",
   "outputs": [],
   "execution_count": 12
  },
  {
   "metadata": {},
   "cell_type": "markdown",
   "source": [
    "**2d.** Please run the `my_evaluate_word_analogies` function on `questions-words-100.txt` and then write instructions to display, from the results stored in `analogy_scores`:\n",
    "* one incorrectly-solved analogy (selected at random), including also the error made by the model and the rank of the correct answer, thus adding:\n",
    "  - a fifth word, which is the incorrect one found by the model\n",
    "  - a sixth term, which is the integer indicating the rank (or 0)\n",
    "* one correctly-solved analogy selected at random (in principle, four terms)."
   ],
   "id": "062fec19"
  },
  {
   "metadata": {
    "ExecuteTime": {
     "end_time": "2025-03-27T13:08:53.949524Z",
     "start_time": "2025-03-27T13:08:53.234913Z"
    }
   },
   "cell_type": "code",
   "source": [
    "analogy_scores = my_evaluate_word_analogies(wv_model, \"questions-words-100.txt\")\n",
    "incorrect_samples = analogy_scores[1][-1]['incorrect']\n",
    "correct_samples = analogy_scores[1][-1]['correct']\n",
    "\n",
    "if incorrect_samples:\n",
    "    print(\"Incorrectly-solved analogy:\", random.choice(incorrect_samples))\n",
    "if correct_samples:\n",
    "    print(\"\\nCorrectly-solved analogy:\", random.choice(correct_samples))"
   ],
   "id": "composite-fundamentals",
   "outputs": [
    {
     "name": "stdout",
     "output_type": "stream",
     "text": [
      "Incorrectly-solved analogy: ('ATHENS', 'GREECE', 'BAGHDAD', 'IRAQ', 'IRAQ', 0)\n",
      "\n",
      "Correctly-solved analogy: ('BERLIN', 'GERMANY', 'MOSCOW', 'RUSSIA')\n"
     ]
    }
   ],
   "execution_count": 13
  },
  {
   "cell_type": "markdown",
   "id": "broadband-contest",
   "metadata": {},
   "source": [
    "**2e.** Please write a function to compute the MRR score given a structure with correctly and incorrectly solved analogies, such as the one that is found in the results from `evaluate_word_analogies`.  The structure is not divided into categories.\n",
    "\n",
    "The Mean Reciprocal Rank (please use the [formula here](https://en.wikipedia.org/wiki/Mean_reciprocal_rank)) gives some credit for incorrectly solved analogies, in inverse proportion to the rank of the correct answer among the candidates.  This rank is 1 for correctly solved analogies (full credit), and 1/k (or 0) for incorrectly solved ones."
   ]
  },
  {
   "cell_type": "code",
   "id": "f5dc33e6",
   "metadata": {
    "ExecuteTime": {
     "end_time": "2025-03-27T13:08:54.082054Z",
     "start_time": "2025-03-27T13:08:54.076295Z"
    }
   },
   "source": [
    "def myMRR(analogies):\n",
    "    reciprocal_ranks = []\n",
    "\n",
    "    q = len(analogies['correct'] + analogies['incorrect'])\n",
    "    # Process correctly solved analogies\n",
    "    for analogy in analogies['correct']:\n",
    "        reciprocal_ranks.append(1.0)  # Full credit for correct answers\n",
    "\n",
    "    # Process incorrectly solved analogies\n",
    "    for analogy in analogies['incorrect']:\n",
    "        rank = analogy[5]  # The rank of the correct answer\n",
    "        if rank != 0:\n",
    "            reciprocal_ranks.append(1.0 / rank)\n",
    "\n",
    "    # Calculate MRR\n",
    "    mrr = sum(reciprocal_ranks) / q\n",
    "    return mrr\n",
    "\n",
    "\n",
    "\n",
    "print(\"Total number of analogies:\",  # The last dictionary is the total\n",
    "      len(analogy_scores[1][-1]['correct']) +\n",
    "      len(analogy_scores[1][-1]['incorrect']))\n",
    "print(\"Total number of categories:\", len(analogy_scores[1]) - 1)  # the \"total\" is excluded\n",
    "print(f\"Overall accuracy: {analogy_scores[0]:.2f} and MRR: {myMRR(analogy_scores[1][-1]):.2f}\")"
   ],
   "outputs": [
    {
     "name": "stdout",
     "output_type": "stream",
     "text": [
      "Total number of analogies: 99\n",
      "Total number of categories: 1\n",
      "Overall accuracy: 0.68 and MRR: 0.73\n"
     ]
    }
   ],
   "execution_count": 14
  },
  {
   "cell_type": "code",
   "id": "primary-breach",
   "metadata": {
    "ExecuteTime": {
     "end_time": "2025-03-27T13:08:54.110014Z",
     "start_time": "2025-03-27T13:08:54.105518Z"
    }
   },
   "source": [
    "# Please test your MRR function by running the following code, which  displays the total number of analogy tasks, \n",
    "# the number of different categories (sections), the accuracy of the results (total number of correctly \n",
    "# solved analogies), and the MRR score of the results:\n",
    "print(\"Total number of analogies:\",  # The last dictionary is the total\n",
    "      len(analogy_scores[1][-1]['correct']) +\n",
    "      len(analogy_scores[1][-1]['incorrect']))\n",
    "print(\"Total number of categories:\", len(analogy_scores[1]) - 1)  # the \"total\" is excluded\n",
    "print(f\"Overall accuracy: {analogy_scores[0]:.2f} and MRR: {myMRR(analogy_scores[1][-1]):.2f}\")"
   ],
   "outputs": [
    {
     "name": "stdout",
     "output_type": "stream",
     "text": [
      "Total number of analogies: 99\n",
      "Total number of categories: 1\n",
      "Overall accuracy: 0.68 and MRR: 0.73\n"
     ]
    }
   ],
   "execution_count": 15
  },
  {
   "cell_type": "markdown",
   "id": "bbd4662a",
   "metadata": {},
   "source": [
    "**2f.** Please compute now the accuracy and MRR and the total time for the entire `questions-words.txt` file.  Is the timing compatible with your estimate from (2b)?  What do you think about the difference between accuracy and MRR? "
   ]
  },
  {
   "cell_type": "code",
   "id": "07f2842d",
   "metadata": {
    "ExecuteTime": {
     "end_time": "2025-03-27T13:10:46.029288Z",
     "start_time": "2025-03-27T13:08:54.142997Z"
    }
   },
   "source": [
    "import time\n",
    "\n",
    "# Run the function on the entire `questions-words.txt` file\n",
    "start_time = time.time()\n",
    "sections = my_evaluate_word_analogies(wv_model, datapath('questions-words.txt'))\n",
    "end_time = time.time()\n",
    "\n",
    "# Calculate accuracy\n",
    "total_analogies = len(sections[1][-1]['correct']) + len(sections[1][-1]['incorrect'])\n",
    "accuracy = len(sections[1][-1]['correct']) / total_analogies\n",
    "\n",
    "# Calculate MRR\n",
    "mrr_score = myMRR(sections[1][-1])\n",
    "\n",
    "# Calculate total time\n",
    "total_time = end_time - start_time\n",
    "\n",
    "# Print the results\n",
    "print(f\"Accuracy: {accuracy:.4f}\")\n",
    "print(f\"Mean Reciprocal Rank (MRR): {mrr_score:.4f}\")\n",
    "print(f\"Total time taken: {total_time:.2f} seconds\")\n",
    "\n",
    "# Compare with the estimate from (2b)\n",
    "estimated_time_per_analogy = total_time / total_analogies\n",
    "print(f\"Estimated time per analogy: {estimated_time_per_analogy:.4f} seconds\")"
   ],
   "outputs": [
    {
     "name": "stdout",
     "output_type": "stream",
     "text": [
      "Accuracy: 0.1823\n",
      "Mean Reciprocal Rank (MRR): 0.2173\n",
      "Total time taken: 111.88 seconds\n",
      "Estimated time per analogy: 0.0057 seconds\n"
     ]
    }
   ],
   "execution_count": 16
  },
  {
   "cell_type": "markdown",
   "id": "economic-shore",
   "metadata": {},
   "source": [
    "## End of AdvNLP Lab 4\n",
    "Please submit your lab report as a .ipynb file after you have fully run and checked it in Google Colab; then upload it to Moodle.\n",
    "Please submit one notebook per group only and do not forget to put the last names of all team members in the filename."
   ]
  }
 ],
 "metadata": {
  "kernelspec": {
   "display_name": "msenlp",
   "language": "python",
   "name": "python3"
  },
  "language_info": {
   "codemirror_mode": {
    "name": "ipython",
    "version": 3
   },
   "file_extension": ".py",
   "mimetype": "text/x-python",
   "name": "python",
   "nbconvert_exporter": "python",
   "pygments_lexer": "ipython3",
   "version": "3.9.13"
  }
 },
 "nbformat": 4,
 "nbformat_minor": 5
}
