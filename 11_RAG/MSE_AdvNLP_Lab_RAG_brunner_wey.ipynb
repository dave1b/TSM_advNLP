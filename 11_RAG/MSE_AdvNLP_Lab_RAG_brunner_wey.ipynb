{
 "cells": [
  {
   "cell_type": "markdown",
   "metadata": {},
   "source": [
    "![MSE Logo](https://moodle.msengineering.ch/pluginfile.php/1/core_admin/logo/0x150/1643104191/logo-mse.png)\n",
    "\n",
    "# AdvNLP Lab (Graded Lab): Experimenting with Retrieval as Part of a RAG System\n",
    "\n",
    "Total: 44 points\n",
    "\n",
    "**Objectives:** We build the retrieval part of a RAG system and compare performance of classic KNN retrieval with additional cross encoder reranking. Eventually, we write two prompts for generation and test it on a LLM.\n",
    "\n",
    "**Useful documentation:** Since you'll use LangChain for this assignment, [their documentation](https://python.langchain.com/docs/introduction/) might be helpful."
   ]
  },
  {
   "cell_type": "markdown",
   "metadata": {},
   "source": [
    "## Students\n",
    "\n",
    "Dave Brunner, Andrea Wey"
   ]
  },
  {
   "cell_type": "markdown",
   "metadata": {},
   "source": [
    "## Setup\n",
    "\n",
    "First, we need to install the required packages for this assignment."
   ]
  },
  {
   "cell_type": "code",
   "metadata": {
    "ExecuteTime": {
     "end_time": "2025-06-11T13:58:23.817665Z",
     "start_time": "2025-06-11T13:58:23.815418Z"
    }
   },
   "source": "# !pip install pandas langchain-community langchain-huggingface faiss-cpu --quiet",
   "outputs": [],
   "execution_count": 1
  },
  {
   "cell_type": "code",
   "metadata": {
    "ExecuteTime": {
     "end_time": "2025-06-11T13:58:24.621036Z",
     "start_time": "2025-06-11T13:58:23.902593Z"
    }
   },
   "source": [
    "import pandas as pd\n",
    "from langchain.retrievers import ContextualCompressionRetriever\n",
    "from langchain_core.documents import Document\n",
    "from langchain_community.vectorstores import FAISS\n",
    "from langchain_huggingface import HuggingFaceEmbeddings\n",
    "from langchain_community.document_loaders import CSVLoader\n",
    "from langchain_community.cross_encoders import HuggingFaceCrossEncoder\n",
    "from langchain.retrievers.document_compressors import CrossEncoderReranker"
   ],
   "outputs": [
    {
     "name": "stderr",
     "output_type": "stream",
     "text": [
      "/Users/davebrunner/Documents/repositories/TSM_AdvNLP/venv/lib/python3.9/site-packages/urllib3/__init__.py:35: NotOpenSSLWarning: urllib3 v2 only supports OpenSSL 1.1.1+, currently the 'ssl' module is compiled with 'LibreSSL 2.8.3'. See: https://github.com/urllib3/urllib3/issues/3020\n",
      "  warnings.warn(\n"
     ]
    }
   ],
   "execution_count": 2
  },
  {
   "cell_type": "markdown",
   "metadata": {},
   "source": [
    "We will use the [DRAGONBall Dataset](https://github.com/OpenBMB/RAGEval) as a basis for this assignment and load a subset of their documents. These will be the stored knowledge of the RAG system. To store them into the vector store, we will later directly create embeddings out of them, since they have alredy the size of suitable chunks. Each document consists of a unique ID and the actual content."
   ]
  },
  {
   "cell_type": "code",
   "metadata": {
    "ExecuteTime": {
     "end_time": "2025-06-11T13:58:24.646318Z",
     "start_time": "2025-06-11T13:58:24.630694Z"
    }
   },
   "source": [
    "documents = pd.read_csv('docs.csv', index_col=0)\n",
    "documents"
   ],
   "outputs": [
    {
     "data": {
      "text/plain": [
       "                                               content\n",
       "id                                                    \n",
       "40   Acme Government Solutions is a government indu...\n",
       "41   Entertainment Enterprises Inc. is an entertain...\n",
       "42   Advanced Manufacturing Solutions Inc., establi...\n",
       "43   EcoGuard Solutions, established on April 15, 2...\n",
       "44   Green Fields Agriculture Ltd., established on ...\n",
       "..                                                 ...\n",
       "211  Hospitalization Record:\\n\\nBasic Information:\\...\n",
       "212  **Hospitalization Record**\\n\\n**Basic Informat...\n",
       "213  Hospitalization Record\\n\\nBasic Information:\\n...\n",
       "214  Hospitalization Record\\n----------------------...\n",
       "215  Hospitalization Record:\\n\\nBasic Information:\\...\n",
       "\n",
       "[108 rows x 1 columns]"
      ],
      "text/html": [
       "<div>\n",
       "<style scoped>\n",
       "    .dataframe tbody tr th:only-of-type {\n",
       "        vertical-align: middle;\n",
       "    }\n",
       "\n",
       "    .dataframe tbody tr th {\n",
       "        vertical-align: top;\n",
       "    }\n",
       "\n",
       "    .dataframe thead th {\n",
       "        text-align: right;\n",
       "    }\n",
       "</style>\n",
       "<table border=\"1\" class=\"dataframe\">\n",
       "  <thead>\n",
       "    <tr style=\"text-align: right;\">\n",
       "      <th></th>\n",
       "      <th>content</th>\n",
       "    </tr>\n",
       "    <tr>\n",
       "      <th>id</th>\n",
       "      <th></th>\n",
       "    </tr>\n",
       "  </thead>\n",
       "  <tbody>\n",
       "    <tr>\n",
       "      <th>40</th>\n",
       "      <td>Acme Government Solutions is a government indu...</td>\n",
       "    </tr>\n",
       "    <tr>\n",
       "      <th>41</th>\n",
       "      <td>Entertainment Enterprises Inc. is an entertain...</td>\n",
       "    </tr>\n",
       "    <tr>\n",
       "      <th>42</th>\n",
       "      <td>Advanced Manufacturing Solutions Inc., establi...</td>\n",
       "    </tr>\n",
       "    <tr>\n",
       "      <th>43</th>\n",
       "      <td>EcoGuard Solutions, established on April 15, 2...</td>\n",
       "    </tr>\n",
       "    <tr>\n",
       "      <th>44</th>\n",
       "      <td>Green Fields Agriculture Ltd., established on ...</td>\n",
       "    </tr>\n",
       "    <tr>\n",
       "      <th>...</th>\n",
       "      <td>...</td>\n",
       "    </tr>\n",
       "    <tr>\n",
       "      <th>211</th>\n",
       "      <td>Hospitalization Record:\\n\\nBasic Information:\\...</td>\n",
       "    </tr>\n",
       "    <tr>\n",
       "      <th>212</th>\n",
       "      <td>**Hospitalization Record**\\n\\n**Basic Informat...</td>\n",
       "    </tr>\n",
       "    <tr>\n",
       "      <th>213</th>\n",
       "      <td>Hospitalization Record\\n\\nBasic Information:\\n...</td>\n",
       "    </tr>\n",
       "    <tr>\n",
       "      <th>214</th>\n",
       "      <td>Hospitalization Record\\n----------------------...</td>\n",
       "    </tr>\n",
       "    <tr>\n",
       "      <th>215</th>\n",
       "      <td>Hospitalization Record:\\n\\nBasic Information:\\...</td>\n",
       "    </tr>\n",
       "  </tbody>\n",
       "</table>\n",
       "<p>108 rows × 1 columns</p>\n",
       "</div>"
      ]
     },
     "execution_count": 3,
     "metadata": {},
     "output_type": "execute_result"
    }
   ],
   "execution_count": 3
  },
  {
   "cell_type": "markdown",
   "metadata": {},
   "source": [
    "The main goal of the assignment is to evaluate the retrieval component of the RAG system. For that, we also load a dataset of queries, which we can use to retrieve matching documents. Each query has also assigned an array of documents in the form of their IDs, which match with the documents loaded before. We can use these to evaluate whether the correct documents were found by the retrieval or not."
   ]
  },
  {
   "cell_type": "code",
   "metadata": {
    "ExecuteTime": {
     "end_time": "2025-06-11T13:58:24.689882Z",
     "start_time": "2025-06-11T13:58:24.680974Z"
    }
   },
   "source": [
    "queries = pd.read_csv('queries.csv', index_col=0)\n",
    "queries['ground_truth_doc_ids'] = queries['ground_truth_doc_ids'].apply(lambda x: x.split(';'))\n",
    "queries"
   ],
   "outputs": [
    {
     "data": {
      "text/plain": [
       "                                                      query  \\\n",
       "query_id                                                      \n",
       "2286      When was Sparkling Clean Housekeeping Services...   \n",
       "2433      How did HealthPro Innovations' strategic partn...   \n",
       "6266      According to the hospitalization records of Br...   \n",
       "4499      According to the judgment of Norwood, Unionvil...   \n",
       "2448      Based on HealthLife Solutions' 2020 corporate ...   \n",
       "...                                                     ...   \n",
       "2186      How did the severe drought in August 2018 lead...   \n",
       "3251      Compare the large-scale financing activities o...   \n",
       "2268      How did CleanCo Housekeeping Services' investm...   \n",
       "3311      What were the outcomes of the debt restructuri...   \n",
       "6551      According to the hospitalization records of Wi...   \n",
       "\n",
       "         ground_truth_doc_ids  \n",
       "query_id                       \n",
       "2286                     [64]  \n",
       "2433                     [54]  \n",
       "6266                    [212]  \n",
       "4499                    [124]  \n",
       "2448                     [73]  \n",
       "...                       ...  \n",
       "2186                     [65]  \n",
       "3251                 [58, 55]  \n",
       "2268                     [47]  \n",
       "3311                 [56, 53]  \n",
       "6551               [188, 213]  \n",
       "\n",
       "[100 rows x 2 columns]"
      ],
      "text/html": [
       "<div>\n",
       "<style scoped>\n",
       "    .dataframe tbody tr th:only-of-type {\n",
       "        vertical-align: middle;\n",
       "    }\n",
       "\n",
       "    .dataframe tbody tr th {\n",
       "        vertical-align: top;\n",
       "    }\n",
       "\n",
       "    .dataframe thead th {\n",
       "        text-align: right;\n",
       "    }\n",
       "</style>\n",
       "<table border=\"1\" class=\"dataframe\">\n",
       "  <thead>\n",
       "    <tr style=\"text-align: right;\">\n",
       "      <th></th>\n",
       "      <th>query</th>\n",
       "      <th>ground_truth_doc_ids</th>\n",
       "    </tr>\n",
       "    <tr>\n",
       "      <th>query_id</th>\n",
       "      <th></th>\n",
       "      <th></th>\n",
       "    </tr>\n",
       "  </thead>\n",
       "  <tbody>\n",
       "    <tr>\n",
       "      <th>2286</th>\n",
       "      <td>When was Sparkling Clean Housekeeping Services...</td>\n",
       "      <td>[64]</td>\n",
       "    </tr>\n",
       "    <tr>\n",
       "      <th>2433</th>\n",
       "      <td>How did HealthPro Innovations' strategic partn...</td>\n",
       "      <td>[54]</td>\n",
       "    </tr>\n",
       "    <tr>\n",
       "      <th>6266</th>\n",
       "      <td>According to the hospitalization records of Br...</td>\n",
       "      <td>[212]</td>\n",
       "    </tr>\n",
       "    <tr>\n",
       "      <th>4499</th>\n",
       "      <td>According to the judgment of Norwood, Unionvil...</td>\n",
       "      <td>[124]</td>\n",
       "    </tr>\n",
       "    <tr>\n",
       "      <th>2448</th>\n",
       "      <td>Based on HealthLife Solutions' 2020 corporate ...</td>\n",
       "      <td>[73]</td>\n",
       "    </tr>\n",
       "    <tr>\n",
       "      <th>...</th>\n",
       "      <td>...</td>\n",
       "      <td>...</td>\n",
       "    </tr>\n",
       "    <tr>\n",
       "      <th>2186</th>\n",
       "      <td>How did the severe drought in August 2018 lead...</td>\n",
       "      <td>[65]</td>\n",
       "    </tr>\n",
       "    <tr>\n",
       "      <th>3251</th>\n",
       "      <td>Compare the large-scale financing activities o...</td>\n",
       "      <td>[58, 55]</td>\n",
       "    </tr>\n",
       "    <tr>\n",
       "      <th>2268</th>\n",
       "      <td>How did CleanCo Housekeeping Services' investm...</td>\n",
       "      <td>[47]</td>\n",
       "    </tr>\n",
       "    <tr>\n",
       "      <th>3311</th>\n",
       "      <td>What were the outcomes of the debt restructuri...</td>\n",
       "      <td>[56, 53]</td>\n",
       "    </tr>\n",
       "    <tr>\n",
       "      <th>6551</th>\n",
       "      <td>According to the hospitalization records of Wi...</td>\n",
       "      <td>[188, 213]</td>\n",
       "    </tr>\n",
       "  </tbody>\n",
       "</table>\n",
       "<p>100 rows × 2 columns</p>\n",
       "</div>"
      ]
     },
     "execution_count": 4,
     "metadata": {},
     "output_type": "execute_result"
    }
   ],
   "execution_count": 4
  },
  {
   "cell_type": "markdown",
   "metadata": {},
   "source": [
    "## 1. Recall@N\n",
    "\n",
    "**1a) [2 points]** We will evaluate the retrieval by comparing the retrieved documents with the ground truth documents assigned to the query. For that, we will use the Recall@N metric. Please describe in 1-2 sentences how we can interpret this metric in our case."
   ]
  },
  {
   "cell_type": "markdown",
   "metadata": {},
   "source": [
    "**Your Answer:**\n",
    "Recall@N is a metric that measures the proportion of relevant documents (ground truth) that are retrieved within the top N results for a given query. In our case, it indicates how many of the documents that are actually relevant to the query are found among the top N retrieved documents, thus providing insight into the effectiveness of the retrieval system in returning relevant information."
   ]
  },
  {
   "cell_type": "markdown",
   "metadata": {},
   "source": [
    "**1b) [4 points]** Implement the Recall@N metric and test it with the following code."
   ]
  },
  {
   "cell_type": "code",
   "metadata": {
    "ExecuteTime": {
     "end_time": "2025-06-11T13:58:24.752468Z",
     "start_time": "2025-06-11T13:58:24.749909Z"
    }
   },
   "source": [
    "def recall_at_n(retrieved_docs, relevant_doc_ids, n):\n",
    "    \"\"\"\n",
    "    Calculate Recall@N.\n",
    "\n",
    "    Parameters:\n",
    "    - retrieved_docs: Sorted list of retrieved documents as LangChain Document objects\n",
    "    - relevant_doc_ids: List of relevant document IDs\n",
    "    - n: Number of top documents to consider\n",
    "\n",
    "    Returns:\n",
    "    - Recall@N\n",
    "    \"\"\"\n",
    "    # Get the IDs of the top N retrieved documents\n",
    "    top_n_ids = [doc.metadata['id'] for doc in retrieved_docs[:n]]\n",
    "    # Calculate the number of relevant documents found in the top N\n",
    "    relevant_found = sum(1 for doc_id in top_n_ids if doc_id in relevant_doc_ids)\n",
    "    # Calculate Recall@N\n",
    "    recall = relevant_found / len(relevant_doc_ids) if relevant_doc_ids else 0\n",
    "    return recall"
   ],
   "outputs": [],
   "execution_count": 5
  },
  {
   "metadata": {
    "ExecuteTime": {
     "end_time": "2025-06-11T13:58:24.856254Z",
     "start_time": "2025-06-11T13:58:24.853355Z"
    }
   },
   "cell_type": "code",
   "source": [
    "### Test\n",
    "recall_at_n(\n",
    "    [Document(page_content='', metadata={'id': str(id)}) for id in range(10)],\n",
    "    ['0', '1', '20'],\n",
    "    3\n",
    ")"
   ],
   "outputs": [
    {
     "data": {
      "text/plain": [
       "0.6666666666666666"
      ]
     },
     "execution_count": 6,
     "metadata": {},
     "output_type": "execute_result"
    }
   ],
   "execution_count": 6
  },
  {
   "cell_type": "markdown",
   "metadata": {},
   "source": [
    "## 2. Embedding Model\n",
    "\n",
    "**2a) [3 points]** Each document will be converted to an embedding representing the semantic meaning of the document. In this assignment, we will use model `sentence-transformers/all-MiniLM-L6-v2` from HuggingFace. Please answer the following questions about this model:"
   ]
  },
  {
   "cell_type": "markdown",
   "metadata": {},
   "source": [
    "**Your Answers:**\n",
    "\n",
    "Embedding Length: 384\n",
    "\n",
    "Number of Parameters: 22.7M\n",
    "\n",
    "Maximum Sequence Length: 256 word pieces"
   ]
  },
  {
   "cell_type": "markdown",
   "metadata": {},
   "source": [
    "## 3. Vector Store\n",
    "\n",
    "**3a) [4 points]** Use LangChain to create a FAISS vector store and embed the documents with the above-mentioned embedding model. Load the documents again but this time with a Loader object from LangChain. Eventually, print the number of documents in the vector store."
   ]
  },
  {
   "cell_type": "code",
   "metadata": {
    "ExecuteTime": {
     "end_time": "2025-06-11T13:58:29.945322Z",
     "start_time": "2025-06-11T13:58:24.909469Z"
    }
   },
   "source": [
    "from langchain_community.document_loaders import DataFrameLoader\n",
    "\n",
    "loader = CSVLoader(\n",
    "    file_path='docs.csv',\n",
    "    metadata_columns=['id'],\n",
    ")\n",
    "documents = loader.load()\n",
    "\n",
    "embedding_model = HuggingFaceEmbeddings(model_name=\"sentence-transformers/all-MiniLM-L6-v2\")\n",
    "\n",
    "vector_store = FAISS.from_documents(documents, embedding_model)\n",
    "\n",
    "print(f\"Number of documents in the vector store: {len(documents)}\")"
   ],
   "outputs": [
    {
     "name": "stdout",
     "output_type": "stream",
     "text": [
      "Number of documents in the vector store: 108\n"
     ]
    }
   ],
   "execution_count": 7
  },
  {
   "cell_type": "markdown",
   "metadata": {},
   "source": [
    "**3b) [3 points]** Retrieve the Top-3 documents for this query: \"According to the hospitalization records of Bridgewater General Hospital, summarize the present illness of J. Reyes.\" and print the documents' ID and L2 distance."
   ]
  },
  {
   "cell_type": "code",
   "metadata": {
    "ExecuteTime": {
     "end_time": "2025-06-11T13:58:30.027046Z",
     "start_time": "2025-06-11T13:58:29.959336Z"
    }
   },
   "source": [
    "query = 'According to the hospitalization records of Bridgewater General Hospital, summarize the present illness of J. Reyes.'\n",
    "\n",
    "similar_docs = vector_store.similarity_search_with_score(query, k=3)\n",
    "for doc in similar_docs:\n",
    "    print(f\"Document ID: {doc[0].id}, L2 Distance: {doc[1]}\")"
   ],
   "outputs": [
    {
     "name": "stdout",
     "output_type": "stream",
     "text": [
      "Document ID: 4cf31824-21a1-406c-b56f-b23be376c9a9, L2 Distance: 0.7302275896072388\n",
      "Document ID: abe0b0b7-de70-4aec-9459-2b6256f0f17c, L2 Distance: 0.9898043870925903\n",
      "Document ID: 4cedc1f5-d146-4a29-bf7d-e57b072b4004, L2 Distance: 1.0050287246704102\n"
     ]
    }
   ],
   "execution_count": 8
  },
  {
   "cell_type": "markdown",
   "metadata": {},
   "source": [
    "**3c) [2 points]** Check and show if a suitable document is found for the query in the Top-3 retrieved documents and show the relevant ones."
   ]
  },
  {
   "cell_type": "code",
   "metadata": {
    "ExecuteTime": {
     "end_time": "2025-06-11T13:58:30.035861Z",
     "start_time": "2025-06-11T13:58:30.032967Z"
    }
   },
   "source": [
    "relevant_docs = []\n",
    "for doc, score in similar_docs:\n",
    "    content = doc.page_content\n",
    "    # Check if the document contains relevant keywords\n",
    "    if \"Bridgewater General Hospital\" in content and \"J. Reyes\" in content:\n",
    "        relevant_docs.append((doc.id, score, content))\n",
    "\n",
    "# Print the relevant documents ID, L2 distance, and content\n",
    "if relevant_docs:\n",
    "    for doc_id, score, content in relevant_docs:\n",
    "        print(f\"Relevant Document Found - ID: {doc_id}, L2 Distance: {score}\")\n",
    "        print(f\"Content: {content}\\n\")\n",
    "else:\n",
    "    print(\"No relevant documents found in the top-3 retrieved documents.\")"
   ],
   "outputs": [
    {
     "name": "stdout",
     "output_type": "stream",
     "text": [
      "Relevant Document Found - ID: 4cf31824-21a1-406c-b56f-b23be376c9a9, L2 Distance: 0.7302275896072388\n",
      "Content: content: **Hospitalization Record**\n",
      "\n",
      "**Basic Information:**\n",
      "Name: J. Reyes\n",
      "Gender: Male\n",
      "Age: 52\n",
      "Ethnicity: Hispanic\n",
      "Marital Status: Married\n",
      "Occupation: Construction Worker\n",
      "Address: 22, Sunnyvale street, Bridgewater\n",
      "Admission Time: 7th, September\n",
      "Record Time: 8th, September\n",
      "Historian: Self\n",
      "Hospital Name: Bridgewater General Hospital\n",
      "\n",
      "**Chief Complaint:**\n",
      "Persistent joint pain and morning stiffness for 6 months\n",
      "\n",
      "**Present Illness:**\n",
      "Onset: The symptoms began insidiously 6 months ago, initially noticed while working at a construction site. Gradual onset with morning stiffness in the fingers and wrists.\n",
      "Main Symptoms: Morning stiffness, arthritis affecting hands, feet, wrists, ankles, and temporomandibular joints. Pain characterized as dull and persistent, worsens with activity and improves with rest.\n",
      "Accompanying Symptoms: Joint deformities in the hands, fatigue, intermittent fever, and weight loss of approximately 5 kg over the past few months.\n",
      "Diagnosis and Treatment History: Previously consulted a primary care physician and was prescribed NSAIDs which provided partial relief. No hospital admissions or invasive procedures performed prior to this episode.\n",
      "General Condition Changes: Reports feeling fatigued, difficulty sleeping due to pain, decreased appetite, and frequent urination. No significant changes in bowel habits.\n",
      "\n",
      "**Past History:**\n",
      "General Health Condition: Generally healthy with no chronic conditions.\n",
      "Disease History: No previous history of rheumatic diseases or chronic illnesses.\n",
      "Infectious Disease History: No significant infectious diseases.\n",
      "Immunization History: Up-to-date with routine immunizations.\n",
      "Surgery and Trauma History: Appendectomy at age 30, no significant traumas reported.\n",
      "Blood Transfusion History: No history of blood transfusions.\n",
      "Allergy History: Allergic to penicillin.\n",
      "\n",
      "**Personal History:**\n",
      "Birthplace: Bridgewater\n",
      "Residence: 22, Sunnyvale street, Bridgewater\n",
      "Living Habits: Non-smoker, occasional alcohol consumption, balanced diet.\n",
      "Occupation and Working Conditions: Construction worker, physically demanding job, exposed to heavy lifting and repetitive movements.\n",
      "Exposure History: No known exposure to industrial toxins, dust, or radioactive substances.\n",
      "Travel History: No recent travel outside the city.\n",
      "\n",
      "**Marital and Family History:**\n",
      "Marital Status: Married\n",
      "Marriage Age: 25\n",
      "Spouse's Health Condition: Healthy\n",
      "Children's Condition: Two children, both healthy.\n",
      "Family History: No known family history of rheumatoid arthritis or other autoimmune diseases. Parents are alive and healthy, no significant health issues reported in siblings.\n",
      "\n",
      "**Physical Examination:**\n",
      "General Condition:\n",
      "- Temperature: 37.2°C\n",
      "- Pulse: 78 bpm\n",
      "- Respiration: 18 breaths/min\n",
      "- Blood Pressure: 130/85 mmHg\n",
      "\n",
      "Systematic Examination:\n",
      "- Skin: No rashes or lesions.\n",
      "- Mucous Membranes: Normal, moist.\n",
      "- Lymph Nodes: No lymphadenopathy.\n",
      "- Head and Organs: Normal cephalic, no abnormalities.\n",
      "- Neck: No masses or thyromegaly.\n",
      "- Chest: Clear breath sounds, regular heart rhythm, no murmurs.\n",
      "- Abdomen: Soft, non-tender, no organomegaly.\n",
      "- Rectum and Anus: Normal, no hemorrhoids.\n",
      "- External Genitalia: Normal for age.\n",
      "- Spine: No deformities.\n",
      "- Limbs: Swelling and tenderness in wrists and metacarpophalangeal joints.\n",
      "- Nervous System: No focal deficits.\n",
      "\n",
      "**Specialist Examination:**\n",
      "Orthopedic and rheumatologic assessment showing positive rheumatoid factor and anti-CCP antibodies.\n",
      "\n",
      "**Auxiliary Examination:**\n",
      "MRI of hands and feet showing synovitis and erosions, X-rays with evidence of juxta-articular osteoporosis.\n",
      "\n",
      "**Preliminary Diagnosis:**\n",
      "Rheumatoid Arthritis\n",
      "\n",
      "**Diagnostic Basis:**\n",
      "Chronic symptoms of morning stiffness and joint pain, positive rheumatoid factor and anti-CCP antibodies, imaging showing synovitis and erosions.\n",
      "\n",
      "**Differential Diagnosis:**\n",
      "- Ankylosing spondylitis ruled out due to lack of sacroiliac joint involvement.\n",
      "- Osteoarthritis ruled out due to inflammatory nature of arthritis.\n",
      "- Gout ruled out due to negative urate crystals.\n",
      "- Psoriatic arthritis ruled out due to absence of psoriatic lesions.\n",
      "\n",
      "**Admission Records:**\n",
      "Physician's Signature: Dr. A. Smith\n",
      "\n",
      "**Post-Admission Course Records:**\n",
      "First Course Record: Within the first 8 hours, patient assessed for severity of symptoms and baseline workup completed. Initiation of DMARDs, specifically Methotrexate. NSAIDs continued for pain management.\n",
      "Daily Course Records: Noted improvement in pain with continued medication, regular monitoring of liver function tests due to Methotrexate.\n",
      "Senior Physician Rounds Records: Weekly rounds by senior physician confirming treatment plan, slight adjustments in DMARDs dosage.\n",
      "Difficult Case Discussion Records: Multidisciplinary discussion involving rheumatology, orthopedics, and physical therapy for long-term management plan.\n",
      "Handover Records: N/A\n",
      "Transfer Records: N/A\n",
      "Stage Summary: Patient showing moderate improvement, less morning stiffness, and slightly better joint mobility.\n",
      "Emergency Records: N/A\n",
      "Invasive Procedure Records: N/A\n",
      "Consultation Records: Rheumatology and physiotherapy consultations documented.\n",
      "Discharge Records: Patient to be discharged with outpatient follow-up in rheumatology clinic. Instructions on medication adherence and physical therapy.\n",
      "Critically Ill Patient Care Records: N/A\n",
      "\n",
      "**Medical Orders:**\n",
      "Long-term Orders: Methotrexate 15mg orally once weekly, Folic Acid 1mg daily, Naproxen 500mg twice daily as needed for pain.\n",
      "Temporary Orders: Liver function tests every 2 weeks, CBC with differential every month.\n",
      "\n",
      "**Auxiliary Examination Reports:**\n",
      "- Rheumatoid factor: positive\n",
      "- Anti-CCP: positive\n",
      "- ESR: elevated\n",
      "- CRP: elevated.\n",
      "\n",
      "**Temperature Chart:**\n",
      "Temperature stable around 37.2°C, pulse stable, blood pressure within normal limits.\n",
      "\n",
      "**Blood Transfusion Consent:**\n",
      "N/A\n",
      "\n",
      "**Special Examination Consent:**\n",
      "Consent obtained for MRI and X-rays.\n",
      "\n",
      "**Critical Condition Notice:**\n",
      "N/A\n",
      "\n"
     ]
    }
   ],
   "execution_count": 9
  },
  {
   "cell_type": "markdown",
   "metadata": {},
   "source": [
    "## 4. Vector Store Evaluation\n",
    "\n",
    "**4a) [4 points]** Now, we will search with each of the queries for the most relevant documents in the vector store, and calculate Recall@N with them and the assigned ground truth document IDs. To aggregate the results over all queries, we will calculate the mean. We will do this 3 times to and use a different value for $N$ each time: $N \\in \\{ 1, 3, 5, 25\\}$."
   ]
  },
  {
   "cell_type": "code",
   "metadata": {
    "ExecuteTime": {
     "end_time": "2025-06-11T13:58:31.404931Z",
     "start_time": "2025-06-11T13:58:30.049239Z"
    }
   },
   "source": [
    "N_values = [1, 3, 5, 25]\n",
    "\n",
    "results = {n: [] for n in N_values}\n",
    "total_recall = {n: 0 for n in N_values}\n",
    "\n",
    "for index, row in queries.iterrows():\n",
    "\n",
    "    retrieved_docs = vector_store.similarity_search(row['query'], k=max(N_values))\n",
    "\n",
    "    for n in N_values:\n",
    "        recall = recall_at_n(retrieved_docs, row['ground_truth_doc_ids'], n)\n",
    "        total_recall[n] += recall\n",
    "\n",
    "print(\"\\n\\n-------------------------------------\\nAverage Recall@N for all queries:\")\n",
    "for n in N_values:\n",
    "    average_recall = total_recall[n] / len(queries)\n",
    "    print(f'Recall@{n} = {average_recall:.4f}')"
   ],
   "outputs": [
    {
     "name": "stdout",
     "output_type": "stream",
     "text": [
      "\n",
      "\n",
      "-------------------------------------\n",
      "Average Recall@N for all queries:\n",
      "Recall@1 = 0.6650\n",
      "Recall@3 = 0.8150\n",
      "Recall@5 = 0.8600\n",
      "Recall@25 = 1.0000\n"
     ]
    }
   ],
   "execution_count": 10
  },
  {
   "cell_type": "markdown",
   "metadata": {},
   "source": [
    "**4b) [2 points]** When looking at the four calculated Recall@N scores, what do you observe and how can you explain this?"
   ]
  },
  {
   "cell_type": "markdown",
   "metadata": {},
   "source": [
    "**Your Answer:**\n",
    "I can observe that the Recall@N scores increase with the value of N. <br>\n",
    "This is expected, as a larger N allows for a broader search space, increasing the chances of finding the relevant documents among the retrieved results."
   ]
  },
  {
   "cell_type": "markdown",
   "metadata": {},
   "source": [
    "## 5. Cross Encoder\n",
    "\n",
    "**5a) [3 points]** We want to use a cross encoder model to rerank the retrieved documents. Describe in 1-2 sentences how a new document order can be determined using a cross encoder."
   ]
  },
  {
   "cell_type": "markdown",
   "metadata": {},
   "source": [
    "**Your Answer:**\n",
    "It can determine a new document order by evaluating the relevance of each query-document pair as a single unit, producing a score that reflects how well the document matches the query. The documents can then be reranked based on these scores, placing those with higher relevance scores at the top of the list.\n"
   ]
  },
  {
   "cell_type": "markdown",
   "metadata": {},
   "source": [
    "**5b) [4 points]** Now again, we want to calculate Recall@N for all queries and the same $N$ as before. This time, we want to rerank the Top-25 retrieved documents using the cross encoder model `BAAI/bge-reranker-base`. Implement this using LangChain components and report the average Recall for $N \\in \\{ 1, 3, 5, 25\\}$."
   ]
  },
  {
   "cell_type": "code",
   "metadata": {
    "ExecuteTime": {
     "end_time": "2025-06-11T13:58:49.378201Z",
     "start_time": "2025-06-11T13:58:31.415481Z"
    }
   },
   "source": [
    "def calculate_recall_with_reranking(queries, vector_store, N_values):\n",
    "    \"\"\"\n",
    "    Calculate Recall@N for given queries using a cross-encoder to rerank documents.\n",
    "\n",
    "    Parameters:\n",
    "    - queries: DataFrame containing the queries and their ground truth document IDs.\n",
    "    - vector_store: The FAISS vector store containing the documents.\n",
    "    - N_values: List of N values for which to calculate Recall@N.\n",
    "\n",
    "    Returns:\n",
    "    - Dictionary of average Recall@N for each N value.\n",
    "    \"\"\"\n",
    "    # Initialize dictionaries to store results and total recall\n",
    "    results = {n: [] for n in N_values}\n",
    "    total_recall = {n: 0 for n in N_values}\n",
    "\n",
    "    # Initialize the cross-encoder\n",
    "    cross_encoder = HuggingFaceCrossEncoder(model_name=\"BAAI/bge-reranker-base\")\n",
    "    compressor = CrossEncoderReranker(model=cross_encoder, top_n=25)\n",
    "    compression_retriever = ContextualCompressionRetriever(\n",
    "        base_compressor=compressor, base_retriever=vector_store.as_retriever()\n",
    "    )\n",
    "\n",
    "    for index, row in queries.iterrows():\n",
    "        query = row['query']\n",
    "        ground_truth = set(row['ground_truth_doc_ids'])\n",
    "\n",
    "        reranked_docs = compression_retriever.invoke(query)\n",
    "\n",
    "        # Calculate and print Recall@N for each N value\n",
    "        for n in N_values:\n",
    "            recall = recall_at_n(reranked_docs, ground_truth, n)\n",
    "            total_recall[n] += recall\n",
    "\n",
    "    # Calculate and print the average Recall@N for all queries\n",
    "    print(\"\\n\\n-------------------------------------\\nAverage Recall@N for all queries:\")\n",
    "    average_recalls = {}\n",
    "    for n in N_values:\n",
    "        average_recall = total_recall[n] / len(queries)\n",
    "        average_recalls[n] = average_recall\n",
    "        print(f'Recall@{n} = {average_recall:.4f}')\n",
    "\n",
    "    return average_recalls\n",
    "\n",
    "\n",
    "average_recalls = calculate_recall_with_reranking(queries, vector_store, N_values)"
   ],
   "outputs": [
    {
     "name": "stdout",
     "output_type": "stream",
     "text": [
      "\n",
      "\n",
      "-------------------------------------\n",
      "Average Recall@N for all queries:\n",
      "Recall@1 = 0.7300\n",
      "Recall@3 = 0.8450\n",
      "Recall@5 = 0.8450\n",
      "Recall@25 = 0.8450\n"
     ]
    }
   ],
   "execution_count": 11
  },
  {
   "cell_type": "markdown",
   "metadata": {},
   "source": [
    "**5c) [2 points]** What do you observe when you compare the Recall@N scores after reranking with the scores without reranking? Write 1-2 sentences about this and why this might happen."
   ]
  },
  {
   "cell_type": "markdown",
   "metadata": {},
   "source": [
    "**Your Answer:**\n",
    "The Recall@N1 and Recall@2 scores improved after the reranking than without reraking.\n",
    "Indicating that the cross encoder model effectively improved the relevance of the retrieved document, when only few documents are considered.\n",
    "\n",
    "The Recall@N5, and Recall@N25 scores after reranking are lower than without reranking.\n",
    "Indicating that the cross encoder model is not able to improve the relevance of the retrieved documents when more documents are considered."
   ]
  },
  {
   "cell_type": "markdown",
   "metadata": {},
   "source": [
    "## 6. Generation\n",
    "\n",
    "**6a) [6 points]** After improving the retrieval part of the RAG system, we want to finally generate an answer for our query. Retrieve the most relevant document for query \"How much funding did HealthPro Innovations raise in February 2021?\" and print its ID. Then write the instruction message of a prompt to answer this query including all necessary elements before running it using your favourite LLM (ChatGPT GPT-4o, etc.). Please paste the answer from the model and indicate which model you used."
   ]
  },
  {
   "cell_type": "code",
   "metadata": {
    "ExecuteTime": {
     "end_time": "2025-06-11T13:58:49.403374Z",
     "start_time": "2025-06-11T13:58:49.392032Z"
    }
   },
   "source": [
    "query = \"How much funding did HealthPro Innovations raise in February 2021?\"\n",
    "\n",
    "retrieved_docs = vector_store.similarity_search(query, k=1)\n",
    "print(f'Retrieved Document ID: {retrieved_docs[0].metadata[\"id\"]}')"
   ],
   "outputs": [
    {
     "name": "stdout",
     "output_type": "stream",
     "text": [
      "Retrieved Document ID: 54\n"
     ]
    }
   ],
   "execution_count": 12
  },
  {
   "metadata": {
    "ExecuteTime": {
     "end_time": "2025-06-11T13:58:49.423684Z",
     "start_time": "2025-06-11T13:58:49.421687Z"
    }
   },
   "cell_type": "code",
   "source": [
    "prompt = f\"\"\"\n",
    "You are a RAG system that answers questions based on the provided document.\n",
    "####### Document\n",
    "{retrieved_docs[0].page_content}\n",
    "####### Question\n",
    "{query}\n",
    "\"\"\""
   ],
   "outputs": [],
   "execution_count": 13
  },
  {
   "metadata": {
    "ExecuteTime": {
     "end_time": "2025-06-11T13:58:49.659298Z",
     "start_time": "2025-06-11T13:58:49.435579Z"
    }
   },
   "cell_type": "code",
   "source": [
    "import os\n",
    "from mistralai import Mistral\n",
    "from dotenv import load_dotenv\n",
    "\n",
    "load_dotenv()\n",
    "api_key = os.environ[\"MISTRAL_API_KEY\"]\n",
    "model = \"mistral-medium-latest\"\n",
    "client = Mistral(api_key=api_key)\n",
    "\n",
    "\n",
    "def generate_answer(prompt):\n",
    "    return client.chat.complete(\n",
    "        model=model,\n",
    "        messages=[\n",
    "            {\n",
    "                \"role\": \"user\",\n",
    "                \"content\": prompt,\n",
    "            },\n",
    "        ]\n",
    "    )"
   ],
   "outputs": [],
   "execution_count": 14
  },
  {
   "metadata": {
    "ExecuteTime": {
     "end_time": "2025-06-11T13:58:50.447599Z",
     "start_time": "2025-06-11T13:58:49.667476Z"
    }
   },
   "cell_type": "code",
   "source": "chat_response = generate_answer(prompt)",
   "outputs": [],
   "execution_count": 15
  },
  {
   "metadata": {},
   "cell_type": "markdown",
   "source": "### Results"
  },
  {
   "metadata": {},
   "cell_type": "markdown",
   "source": [
    "**Your Prompt:**\n",
    "\n"
   ]
  },
  {
   "metadata": {
    "ExecuteTime": {
     "end_time": "2025-06-11T13:58:50.475912Z",
     "start_time": "2025-06-11T13:58:50.472223Z"
    }
   },
   "cell_type": "code",
   "source": "prompt",
   "outputs": [
    {
     "data": {
      "text/plain": [
       "\"\\nYou are a RAG system that answers questions based on the provided document.\\n####### Document\\ncontent: HealthPro Innovations, established in September 2009, is a publicly traded healthcare company based in New York, specializing in the development and sale of innovative healthcare solutions.\\nIn 2021, HealthPro Innovations experienced several significant events that had a profound impact on its financial performance and market position. Firstly, in February 2021, the company conducted a large-scale financing activity, raising $150 million in funds. This financing activity strengthened the company's financial strength and provided support for its expansion and development. One of the sub-events that contributed to this financing activity was the strategic partnership formed with a leading healthcare provider in January 2021. This partnership aimed to expand HealthPro Innovations' market reach and gain access to new customers, ultimately resulting in increased sales and revenue potential.\\nIn March 2021, HealthPro Innovations successfully launched a new line of innovative healthcare solutions, offering advanced features and improved patient outcomes. This product launch stimulated customer interest and generated additional revenue streams for the company. Additionally, in April 2021, HealthPro Innovations acquired a promising research and development startup specializing in cutting-edge medical technology. This acquisition enhanced the company's research capabilities, accelerating the development of new and improved healthcare solutions.\\nFurthermore, in June 2021, HealthPro Innovations expanded its operations into key international markets, establishing partnerships with local distributors and healthcare providers. This expansion increased the company's market share, revenue, and global presence. In August 2021, the company received an industry award for its outstanding innovation and contribution to the healthcare sector. This award enhanced HealthPro Innovations' brand reputation, attracting potential customers, investors, and partners.\\nIn September 2021, HealthPro Innovations achieved a major research breakthrough, resulting in a significant advancement in the effectiveness and efficiency of its healthcare solutions. This breakthrough propelled the company ahead of competitors, increased market demand, and had the potential for higher sales. In November 2021, HealthPro Innovations obtained a crucial regulatory approval for one of its flagship products, allowing for expanded market access and increased sales potential. This approval boosted confidence among customers and investors, driving sales growth and enhancing the company's market position.\\nThese events had a direct impact on several financial indicators for HealthPro Innovations in 2021. The company reported an operating income of $250 million, influenced by market demand and changes in product prices. The net profit for the year was $40 million, influenced by the operating income, cost control, and non-recurring gains and losses. HealthPro Innovations' total assets stood at $500 million, influenced by asset acquisition, disposal, and revaluation. The company's total liabilities amounted to $200 million, influenced by new debt issuance, debt repayment, and debt restructuring. Shareholder equity reached $300 million, influenced by the net profit, dividend distribution, and capital reserves. The company generated a cash flow of $80 million, influenced by operating activities, investment activities, and financing activities. The debt ratio was 40%, reflecting the company's debt level, while the debt to assets ratio was 0.4, indicating the company's financial leverage. The return on equity was 13.33%, reflecting the operational efficiency of shareholder equity.\\nLooking ahead, HealthPro Innovations aims to implement a comprehensive financial strategy focused on cost control and optimizing capital operations to achieve sustainable growth and profitability. The company plans to invest heavily in research and development of new healthcare solutions, expand into emerging markets, and enhance its manufacturing capabilities. HealthPro Innovations has identified major financial risks such as changes in healthcare regulations, intense competition, and currency fluctuations. The company will closely monitor these risks and implement appropriate risk management strategies to mitigate their impact on financial performance.\\nIn conclusion, HealthPro Innovations has experienced significant events in 2021 that have shaped its financial performance and market position. Through strategic partnerships, product launches, acquisitions, international expansion, and regulatory approvals, the company has strengthened its presence in the healthcare industry. With a focus on financial strategy, investment plans, and risk management, HealthPro Innovations is well-positioned for future growth and success.\\nThe company has been listed on the New York Stock Exchange since its establishment, positioning itself as a key player in the healthcare industry. HealthPro Innovations operates in an industry that is constantly evolving, and as such, it has demonstrated its commitment to compliance and regulatory updates.\\nIn January 2021, HealthPro Innovations took proactive steps to comply with new regulations, particularly in the area of data protection. The company implemented enhanced data protection measures in accordance with updated healthcare data privacy laws. This event ensures that HealthPro Innovations remains compliant with evolving laws, safeguarding sensitive data and protecting the interests of the company and its shareholders.\\nIn March 2021, HealthPro Innovations made a strategic move to acquire MedTech Solutions, a leading provider of medical technology software solutions. This acquisition aimed to expand the company's portfolio of healthcare solutions and enhance its market position. The acquisition of MedTech Solutions not only increases HealthPro Innovations' market share but also broadens its product offerings, leading to potential revenue growth and improved competitiveness in the healthcare industry.\\nIn July 2021, HealthPro Innovations made a significant breakthrough in the field of diagnostic technology. The company launched a state-of-the-art AI-powered diagnostic device that revolutionizes the accuracy and efficiency of medical diagnoses. This innovative product attracted significant attention from healthcare providers and professionals, positioning HealthPro Innovations as an industry leader in diagnostic technology. This event has the potential to increase sales and market recognition for the company.\\nIn November 2021, HealthPro Innovations formed a strategic partnership with a renowned global healthcare provider. This partnership aimed to jointly develop and distribute innovative healthcare solutions, leveraging each other's expertise and resources. This collaboration not only broadens HealthPro Innovations' reach and distribution network but also opens new market opportunities and enhances its brand reputation.\\nIn terms of corporate governance, HealthPro Innovations has demonstrated its commitment to transparency, accountability, and stakeholder engagement. In February 2021, the company proposed and obtained approval for a three-year strategic plan at the annual shareholders' meeting. This plan focuses on expanding product offerings, entering new markets, and acquiring complementary businesses. The successful passing of these resolutions shapes the company's governance structure, providing a clear direction and driving future growth opportunities.\\nIn March 2021, HealthPro Innovations revised its corporate governance policy to increase transparency, accountability, and stakeholder engagement. The revised policy includes provisions for regular communication with shareholders and the formation of an independent governance committee. This event positively influences corporate governance practices, fostering trust among stakeholders and promoting long-term sustainability.\\nThe appointment of Mr. Alex Johnson as the new Chairman of the Board in April 2021 brought extensive experience and strategic vision to guide the company's growth. This appointment elevates the company's strategic direction, leveraging Mr. Johnson's expertise to further enhance shareholder value.\\nHealthPro Innovations has also demonstrated its commitment to ethics and integrity. In May 2021, the company swiftly responded to a minor ethics violation by conducting an internal investigation, terminating the employee involved, and reinforcing its robust code of ethics. This incident had no significant financial impact on the company and showcased its commitment to ethical practices, preserving its reputation and strengthening stakeholder trust.\\nTo ensure sustained operational stability and growth, HealthPro Innovations enhanced its risk management framework in June 2021. The company implemented updated procedures to identify emerging risks, conducted regular risk assessments, and established an enterprise risk management committee. This event enhances the company's ability to navigate risks effectively, ensuring sustained operational stability and growth.\\nIn August 2021, HealthPro Innovations appointed Ms. Sarah Thompson as the new Chief Financial Officer. Leveraging her extensive financial management experience, Ms. Thompson's appointment enhances the company's financial operations. This ensures sound financial decision-making and maximizes shareholder value.\\nHealthPro Innovations has also embraced sustainability and social responsibility initiatives. In November 2021, the company launched a comprehensive sustainability program, reducing its carbon footprint by 20% through energy-efficient manufacturing processes and optimized supply chain logistics. Additionally, HealthPro Innovations supports local healthcare charities, providing free medical services to underserved communities. These initiatives positively influence the company's public image, promoting brand loyalty and attracting socially conscious investors and partners.\\nHealthPro Innovations maintains a robust information disclosure system, ensuring timely and comprehensive reporting to shareholders and stakeholders. Quarterly financial reports, annual reports, and quarterly conference calls provide transparent and accurate information to investors and analysts. The company has also implemented strict policies and measures to ensure fairness and compliance in all related transactions. An independent committee reviews and approves all related party transactions, ensuring transparency and fairness in dealings with related entities. Furthermore, HealthPro Innovations has developed a comprehensive internal control system to mitigate risks and ensure effective governance. Regular internal audits, segregation of duties, and a robust system of checks and balances provide a strong control environment.\\nLooking ahead, HealthPro Innovations has outlined several governance improvement plans. The company aims to strengthen the function of the board of directors and supervisory board through regular training programs, increased diversity, and an improved decision-making process. Additionally, HealthPro Innovations is committed to enhancing transparency and the quality of information disclosure by adopting best practices and ensuring timely, accurate, and comprehensive reporting to all stakeholders. The company also plans to strengthen its internal control system to identify, assess, monitor, and report financial and operational risks. Furthermore, HealthPro Innovations aims to integrate sustainable development and social responsibility into its strategy, identifying related risks and opportunities and incorporating them into the company's risk management framework.\\nOverall, HealthPro Innovations has demonstrated its commitment to corporate governance, compliance, and ethical practices. The company's strategic partnerships, acquisitions, and innovative product launches have positioned it as a leader in the healthcare industry. With a strong focus on sustainability and social responsibility, HealthPro Innovations is well-positioned for future growth and success.\\n####### Question\\nHow much funding did HealthPro Innovations raise in February 2021?\\n\""
      ]
     },
     "execution_count": 16,
     "metadata": {},
     "output_type": "execute_result"
    }
   ],
   "execution_count": 16
  },
  {
   "metadata": {},
   "cell_type": "markdown",
   "source": "**Generated Answer:**"
  },
  {
   "metadata": {
    "ExecuteTime": {
     "end_time": "2025-06-11T13:58:50.506999Z",
     "start_time": "2025-06-11T13:58:50.504091Z"
    }
   },
   "cell_type": "code",
   "source": "chat_response.choices[0].message.content",
   "outputs": [
    {
     "data": {
      "text/plain": [
       "'HealthPro Innovations raised $150 million in funds during its large-scale financing activity in February 2021.'"
      ]
     },
     "execution_count": 17,
     "metadata": {},
     "output_type": "execute_result"
    }
   ],
   "execution_count": 17
  },
  {
   "metadata": {},
   "cell_type": "markdown",
   "source": "**Used Model:**"
  },
  {
   "metadata": {
    "ExecuteTime": {
     "end_time": "2025-06-11T13:58:50.532031Z",
     "start_time": "2025-06-11T13:58:50.529555Z"
    }
   },
   "cell_type": "code",
   "source": "model",
   "outputs": [
    {
     "data": {
      "text/plain": [
       "'mistral-medium-latest'"
      ]
     },
     "execution_count": 18,
     "metadata": {},
     "output_type": "execute_result"
    }
   ],
   "execution_count": 18
  },
  {
   "metadata": {},
   "cell_type": "markdown",
   "source": "**6b) [3 points]** We want to use in-context learning and provide the LLM one example of a possible answer. Use the same prompt and extend it, that it should follow this example answer: \"Yep, they sold a lot in that year. Over 50 million units as I can see — pretty big move, respect!\". Use the same model, create a fresh chat and run this new prompt. Highlight the changes in the prompt using **bold style** or <span style=\"color:red;\">color</span>."
  },
  {
   "metadata": {
    "ExecuteTime": {
     "end_time": "2025-06-11T13:58:50.552408Z",
     "start_time": "2025-06-11T13:58:50.550074Z"
    }
   },
   "cell_type": "code",
   "source": [
    "prompt = f\"\"\"\n",
    "You are a RAG system that answers questions based on the provided document.\n",
    "####### Document\n",
    "{retrieved_docs[0].page_content}\n",
    "####### Question\n",
    "{query}\n",
    "####### Style\n",
    "Answer in a casual tone, as if you were talking to a friend.\n",
    "####### In context learning example\n",
    "How is the sales of the iPhone 6 in 2015?\n",
    "Yep, they sold a lot in that year. Over 50 million units as I can see — pretty big move, respect!\n",
    "\"\"\""
   ],
   "outputs": [],
   "execution_count": 19
  },
  {
   "metadata": {},
   "cell_type": "markdown",
   "source": [
    "**Your Prompt:**\n",
    "\n"
   ]
  },
  {
   "metadata": {
    "ExecuteTime": {
     "end_time": "2025-06-11T13:58:50.569143Z",
     "start_time": "2025-06-11T13:58:50.566374Z"
    }
   },
   "cell_type": "code",
   "source": "prompt",
   "outputs": [
    {
     "data": {
      "text/plain": [
       "\"\\nYou are a RAG system that answers questions based on the provided document.\\n####### Document\\ncontent: HealthPro Innovations, established in September 2009, is a publicly traded healthcare company based in New York, specializing in the development and sale of innovative healthcare solutions.\\nIn 2021, HealthPro Innovations experienced several significant events that had a profound impact on its financial performance and market position. Firstly, in February 2021, the company conducted a large-scale financing activity, raising $150 million in funds. This financing activity strengthened the company's financial strength and provided support for its expansion and development. One of the sub-events that contributed to this financing activity was the strategic partnership formed with a leading healthcare provider in January 2021. This partnership aimed to expand HealthPro Innovations' market reach and gain access to new customers, ultimately resulting in increased sales and revenue potential.\\nIn March 2021, HealthPro Innovations successfully launched a new line of innovative healthcare solutions, offering advanced features and improved patient outcomes. This product launch stimulated customer interest and generated additional revenue streams for the company. Additionally, in April 2021, HealthPro Innovations acquired a promising research and development startup specializing in cutting-edge medical technology. This acquisition enhanced the company's research capabilities, accelerating the development of new and improved healthcare solutions.\\nFurthermore, in June 2021, HealthPro Innovations expanded its operations into key international markets, establishing partnerships with local distributors and healthcare providers. This expansion increased the company's market share, revenue, and global presence. In August 2021, the company received an industry award for its outstanding innovation and contribution to the healthcare sector. This award enhanced HealthPro Innovations' brand reputation, attracting potential customers, investors, and partners.\\nIn September 2021, HealthPro Innovations achieved a major research breakthrough, resulting in a significant advancement in the effectiveness and efficiency of its healthcare solutions. This breakthrough propelled the company ahead of competitors, increased market demand, and had the potential for higher sales. In November 2021, HealthPro Innovations obtained a crucial regulatory approval for one of its flagship products, allowing for expanded market access and increased sales potential. This approval boosted confidence among customers and investors, driving sales growth and enhancing the company's market position.\\nThese events had a direct impact on several financial indicators for HealthPro Innovations in 2021. The company reported an operating income of $250 million, influenced by market demand and changes in product prices. The net profit for the year was $40 million, influenced by the operating income, cost control, and non-recurring gains and losses. HealthPro Innovations' total assets stood at $500 million, influenced by asset acquisition, disposal, and revaluation. The company's total liabilities amounted to $200 million, influenced by new debt issuance, debt repayment, and debt restructuring. Shareholder equity reached $300 million, influenced by the net profit, dividend distribution, and capital reserves. The company generated a cash flow of $80 million, influenced by operating activities, investment activities, and financing activities. The debt ratio was 40%, reflecting the company's debt level, while the debt to assets ratio was 0.4, indicating the company's financial leverage. The return on equity was 13.33%, reflecting the operational efficiency of shareholder equity.\\nLooking ahead, HealthPro Innovations aims to implement a comprehensive financial strategy focused on cost control and optimizing capital operations to achieve sustainable growth and profitability. The company plans to invest heavily in research and development of new healthcare solutions, expand into emerging markets, and enhance its manufacturing capabilities. HealthPro Innovations has identified major financial risks such as changes in healthcare regulations, intense competition, and currency fluctuations. The company will closely monitor these risks and implement appropriate risk management strategies to mitigate their impact on financial performance.\\nIn conclusion, HealthPro Innovations has experienced significant events in 2021 that have shaped its financial performance and market position. Through strategic partnerships, product launches, acquisitions, international expansion, and regulatory approvals, the company has strengthened its presence in the healthcare industry. With a focus on financial strategy, investment plans, and risk management, HealthPro Innovations is well-positioned for future growth and success.\\nThe company has been listed on the New York Stock Exchange since its establishment, positioning itself as a key player in the healthcare industry. HealthPro Innovations operates in an industry that is constantly evolving, and as such, it has demonstrated its commitment to compliance and regulatory updates.\\nIn January 2021, HealthPro Innovations took proactive steps to comply with new regulations, particularly in the area of data protection. The company implemented enhanced data protection measures in accordance with updated healthcare data privacy laws. This event ensures that HealthPro Innovations remains compliant with evolving laws, safeguarding sensitive data and protecting the interests of the company and its shareholders.\\nIn March 2021, HealthPro Innovations made a strategic move to acquire MedTech Solutions, a leading provider of medical technology software solutions. This acquisition aimed to expand the company's portfolio of healthcare solutions and enhance its market position. The acquisition of MedTech Solutions not only increases HealthPro Innovations' market share but also broadens its product offerings, leading to potential revenue growth and improved competitiveness in the healthcare industry.\\nIn July 2021, HealthPro Innovations made a significant breakthrough in the field of diagnostic technology. The company launched a state-of-the-art AI-powered diagnostic device that revolutionizes the accuracy and efficiency of medical diagnoses. This innovative product attracted significant attention from healthcare providers and professionals, positioning HealthPro Innovations as an industry leader in diagnostic technology. This event has the potential to increase sales and market recognition for the company.\\nIn November 2021, HealthPro Innovations formed a strategic partnership with a renowned global healthcare provider. This partnership aimed to jointly develop and distribute innovative healthcare solutions, leveraging each other's expertise and resources. This collaboration not only broadens HealthPro Innovations' reach and distribution network but also opens new market opportunities and enhances its brand reputation.\\nIn terms of corporate governance, HealthPro Innovations has demonstrated its commitment to transparency, accountability, and stakeholder engagement. In February 2021, the company proposed and obtained approval for a three-year strategic plan at the annual shareholders' meeting. This plan focuses on expanding product offerings, entering new markets, and acquiring complementary businesses. The successful passing of these resolutions shapes the company's governance structure, providing a clear direction and driving future growth opportunities.\\nIn March 2021, HealthPro Innovations revised its corporate governance policy to increase transparency, accountability, and stakeholder engagement. The revised policy includes provisions for regular communication with shareholders and the formation of an independent governance committee. This event positively influences corporate governance practices, fostering trust among stakeholders and promoting long-term sustainability.\\nThe appointment of Mr. Alex Johnson as the new Chairman of the Board in April 2021 brought extensive experience and strategic vision to guide the company's growth. This appointment elevates the company's strategic direction, leveraging Mr. Johnson's expertise to further enhance shareholder value.\\nHealthPro Innovations has also demonstrated its commitment to ethics and integrity. In May 2021, the company swiftly responded to a minor ethics violation by conducting an internal investigation, terminating the employee involved, and reinforcing its robust code of ethics. This incident had no significant financial impact on the company and showcased its commitment to ethical practices, preserving its reputation and strengthening stakeholder trust.\\nTo ensure sustained operational stability and growth, HealthPro Innovations enhanced its risk management framework in June 2021. The company implemented updated procedures to identify emerging risks, conducted regular risk assessments, and established an enterprise risk management committee. This event enhances the company's ability to navigate risks effectively, ensuring sustained operational stability and growth.\\nIn August 2021, HealthPro Innovations appointed Ms. Sarah Thompson as the new Chief Financial Officer. Leveraging her extensive financial management experience, Ms. Thompson's appointment enhances the company's financial operations. This ensures sound financial decision-making and maximizes shareholder value.\\nHealthPro Innovations has also embraced sustainability and social responsibility initiatives. In November 2021, the company launched a comprehensive sustainability program, reducing its carbon footprint by 20% through energy-efficient manufacturing processes and optimized supply chain logistics. Additionally, HealthPro Innovations supports local healthcare charities, providing free medical services to underserved communities. These initiatives positively influence the company's public image, promoting brand loyalty and attracting socially conscious investors and partners.\\nHealthPro Innovations maintains a robust information disclosure system, ensuring timely and comprehensive reporting to shareholders and stakeholders. Quarterly financial reports, annual reports, and quarterly conference calls provide transparent and accurate information to investors and analysts. The company has also implemented strict policies and measures to ensure fairness and compliance in all related transactions. An independent committee reviews and approves all related party transactions, ensuring transparency and fairness in dealings with related entities. Furthermore, HealthPro Innovations has developed a comprehensive internal control system to mitigate risks and ensure effective governance. Regular internal audits, segregation of duties, and a robust system of checks and balances provide a strong control environment.\\nLooking ahead, HealthPro Innovations has outlined several governance improvement plans. The company aims to strengthen the function of the board of directors and supervisory board through regular training programs, increased diversity, and an improved decision-making process. Additionally, HealthPro Innovations is committed to enhancing transparency and the quality of information disclosure by adopting best practices and ensuring timely, accurate, and comprehensive reporting to all stakeholders. The company also plans to strengthen its internal control system to identify, assess, monitor, and report financial and operational risks. Furthermore, HealthPro Innovations aims to integrate sustainable development and social responsibility into its strategy, identifying related risks and opportunities and incorporating them into the company's risk management framework.\\nOverall, HealthPro Innovations has demonstrated its commitment to corporate governance, compliance, and ethical practices. The company's strategic partnerships, acquisitions, and innovative product launches have positioned it as a leader in the healthcare industry. With a strong focus on sustainability and social responsibility, HealthPro Innovations is well-positioned for future growth and success.\\n####### Question\\nHow much funding did HealthPro Innovations raise in February 2021?\\n####### Style\\nAnswer in a casual tone, as if you were talking to a friend.\\n####### In context learning example\\nHow is the sales of the iPhone 6 in 2015?\\nYep, they sold a lot in that year. Over 50 million units as I can see — pretty big move, respect!\\n\""
      ]
     },
     "execution_count": 20,
     "metadata": {},
     "output_type": "execute_result"
    }
   ],
   "execution_count": 20
  },
  {
   "metadata": {},
   "cell_type": "markdown",
   "source": [
    "**Changes in Prompt:**\n",
    "The last part was added to the prompt the rest stayed the same. <br>\n",
    "\n"
   ]
  },
  {
   "metadata": {},
   "cell_type": "markdown",
   "source": [
    " ...<br>\n",
    " <span style=\"color:red\">\n",
    "**####### Style <br>\n",
    "Answer in a casual tone, as if you were talking to a friend. <br>\n",
    "####### In context learning example <br>\n",
    "How is the sales of the iPhone 6 in 2015? <br>\n",
    "Yep, they sold a lot in that year. Over 50 million units as I can see — pretty big move, respect!**\n",
    "</span>."
   ]
  },
  {
   "metadata": {},
   "cell_type": "markdown",
   "source": [
    "**Generated Answer:**\n",
    "\n"
   ]
  },
  {
   "metadata": {
    "ExecuteTime": {
     "end_time": "2025-06-11T13:58:51.672966Z",
     "start_time": "2025-06-11T13:58:50.599345Z"
    }
   },
   "cell_type": "code",
   "source": [
    "chat_response = generate_answer(prompt)\n",
    "chat_response.choices[0].message.content"
   ],
   "outputs": [
    {
     "data": {
      "text/plain": [
       "'Oh, in February 2021, HealthPro Innovations raised a solid $150 million in funding. Pretty big move, respect! That cash boost definitely helped them level up their game.'"
      ]
     },
     "execution_count": 21,
     "metadata": {},
     "output_type": "execute_result"
    }
   ],
   "execution_count": 21
  },
  {
   "metadata": {},
   "cell_type": "markdown",
   "source": "**6c) [2 points]** Please check if the two answers are correct according to the document and how they differ. Does the model follow the example in the second prompt?"
  },
  {
   "metadata": {},
   "cell_type": "markdown",
   "source": [
    "**Your Answer:**\n",
    "Yes both questions are answered correctly according to the document.\n"
   ]
  },
  {
   "cell_type": "markdown",
   "metadata": {},
   "source": [
    "## End of AdvNLP Lab\n",
    "\n",
    "Please make sure all cells have been executed, save this completed notebook, and upload it to Moodle."
   ]
  }
 ],
 "metadata": {
  "kernelspec": {
   "display_name": ".venv",
   "language": "python",
   "name": "python3"
  },
  "language_info": {
   "codemirror_mode": {
    "name": "ipython",
    "version": 3
   },
   "file_extension": ".py",
   "mimetype": "text/x-python",
   "name": "python",
   "nbconvert_exporter": "python",
   "pygments_lexer": "ipython3",
   "version": "3.13.1"
  }
 },
 "nbformat": 4,
 "nbformat_minor": 2
}
